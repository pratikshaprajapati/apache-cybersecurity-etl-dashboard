{
 "cells": [
  {
   "cell_type": "markdown",
   "id": "b256a792",
   "metadata": {},
   "source": [
    "## \t📘Apache Logs ETL Pipeline - Cybersecurity Analysis\n",
    "\n",
    "This notebook parses and transforms Apache access log  data to identify suspicious activity, analyze request patterns and prepare cleaned datasets for Power BI dashboarding."
   ]
  },
  {
   "cell_type": "code",
   "execution_count": 1,
   "id": "acdd6d1b",
   "metadata": {},
   "outputs": [],
   "source": [
    "import pandas as pd\n",
    "import re\n",
    "from datetime import datetime"
   ]
  },
  {
   "cell_type": "markdown",
   "id": "9d707ea9",
   "metadata": {},
   "source": [
    "### 📁 Load and Parse Apache Access Logs\n",
    "\n",
    "Using regex to extract fields like IP, timestamp, HTTP method, endpoint and status code from standard Apache log lines."
   ]
  },
  {
   "cell_type": "code",
   "execution_count": 2,
   "id": "ab2607cd",
   "metadata": {},
   "outputs": [
    {
     "data": {
      "text/html": [
       "<div>\n",
       "<style scoped>\n",
       "    .dataframe tbody tr th:only-of-type {\n",
       "        vertical-align: middle;\n",
       "    }\n",
       "\n",
       "    .dataframe tbody tr th {\n",
       "        vertical-align: top;\n",
       "    }\n",
       "\n",
       "    .dataframe thead th {\n",
       "        text-align: right;\n",
       "    }\n",
       "</style>\n",
       "<table border=\"1\" class=\"dataframe\">\n",
       "  <thead>\n",
       "    <tr style=\"text-align: right;\">\n",
       "      <th></th>\n",
       "      <th>ip</th>\n",
       "      <th>time</th>\n",
       "      <th>request</th>\n",
       "      <th>status</th>\n",
       "      <th>size</th>\n",
       "    </tr>\n",
       "  </thead>\n",
       "  <tbody>\n",
       "    <tr>\n",
       "      <th>0</th>\n",
       "      <td>83.149.9.216</td>\n",
       "      <td>17/May/2015:10:05:03 +0000</td>\n",
       "      <td>GET /presentations/logstash-monitorama-2013/im...</td>\n",
       "      <td>200</td>\n",
       "      <td>203023</td>\n",
       "    </tr>\n",
       "    <tr>\n",
       "      <th>1</th>\n",
       "      <td>83.149.9.216</td>\n",
       "      <td>17/May/2015:10:05:43 +0000</td>\n",
       "      <td>GET /presentations/logstash-monitorama-2013/im...</td>\n",
       "      <td>200</td>\n",
       "      <td>171717</td>\n",
       "    </tr>\n",
       "    <tr>\n",
       "      <th>2</th>\n",
       "      <td>83.149.9.216</td>\n",
       "      <td>17/May/2015:10:05:47 +0000</td>\n",
       "      <td>GET /presentations/logstash-monitorama-2013/pl...</td>\n",
       "      <td>200</td>\n",
       "      <td>26185</td>\n",
       "    </tr>\n",
       "    <tr>\n",
       "      <th>3</th>\n",
       "      <td>83.149.9.216</td>\n",
       "      <td>17/May/2015:10:05:12 +0000</td>\n",
       "      <td>GET /presentations/logstash-monitorama-2013/pl...</td>\n",
       "      <td>200</td>\n",
       "      <td>7697</td>\n",
       "    </tr>\n",
       "    <tr>\n",
       "      <th>4</th>\n",
       "      <td>83.149.9.216</td>\n",
       "      <td>17/May/2015:10:05:07 +0000</td>\n",
       "      <td>GET /presentations/logstash-monitorama-2013/pl...</td>\n",
       "      <td>200</td>\n",
       "      <td>2892</td>\n",
       "    </tr>\n",
       "  </tbody>\n",
       "</table>\n",
       "</div>"
      ],
      "text/plain": [
       "             ip                        time  \\\n",
       "0  83.149.9.216  17/May/2015:10:05:03 +0000   \n",
       "1  83.149.9.216  17/May/2015:10:05:43 +0000   \n",
       "2  83.149.9.216  17/May/2015:10:05:47 +0000   \n",
       "3  83.149.9.216  17/May/2015:10:05:12 +0000   \n",
       "4  83.149.9.216  17/May/2015:10:05:07 +0000   \n",
       "\n",
       "                                             request status    size  \n",
       "0  GET /presentations/logstash-monitorama-2013/im...    200  203023  \n",
       "1  GET /presentations/logstash-monitorama-2013/im...    200  171717  \n",
       "2  GET /presentations/logstash-monitorama-2013/pl...    200   26185  \n",
       "3  GET /presentations/logstash-monitorama-2013/pl...    200    7697  \n",
       "4  GET /presentations/logstash-monitorama-2013/pl...    200    2892  "
      ]
     },
     "execution_count": 2,
     "metadata": {},
     "output_type": "execute_result"
    }
   ],
   "source": [
    "# Load the data and regex parsing for the data convert into csv and appropriate format\n",
    "\n",
    "\n",
    "# define the log pattern\n",
    "pattern=re.compile(r'(?P<ip>\\S+) \\S+ \\S+ \\[(?P<time>[^\\]]+)\\] \"(?P<request>[^\"]+)\" (?P<status>\\d{3}) (?P<size>\\S+)')\n",
    "\n",
    "#with log lines\n",
    "with open(r\"C:\\Users\\2247823\\Downloads\\apache_logs.log\") as f:\n",
    "    lines=f.readlines()\n",
    "    \n",
    "# parse lines\n",
    "records=[]\n",
    "for line in lines:\n",
    "    match=pattern.match(line)\n",
    "    if match:\n",
    "        records.append(match.groupdict())\n",
    "        \n",
    "df=pd.DataFrame(records)\n",
    "df.head()"
   ]
  },
  {
   "cell_type": "markdown",
   "id": "38e2a092",
   "metadata": {},
   "source": [
    "### 🧹Clean and Transform Data\n",
    "\n",
    "- Convert timestamps\n",
    "- Split request into method, endpoint\n",
    "- Mark failed logins(HTTP 401/403)\n",
    "- Extract day/hour"
   ]
  },
  {
   "cell_type": "code",
   "execution_count": 5,
   "id": "a002a6a3",
   "metadata": {},
   "outputs": [],
   "source": [
    "# Clean adn transform the data\n",
    "\n",
    "# clean and extract the features\n",
    "\n",
    "# convert time to datetime\n",
    "df['time']=pd.to_datetime(df['time'], format=\"%d/%b/%Y:%H:%M:%S %z\")\n",
    "\n",
    "#Split request into method, endpoint, protocol\n",
    "df[['method','endpoint','protocol']]=df['request'].str.split(\" \",expand=True)\n",
    "\n",
    "# convert status to numeric\n",
    "df['status']=df['status'].astype(int)\n",
    "\n",
    "# failed login detection (HTTP 401,403)\n",
    "df['is_failed_login']=df['status'].isin([401, 403])\n"
   ]
  },
  {
   "cell_type": "code",
   "execution_count": 9,
   "id": "ec2d0be1",
   "metadata": {},
   "outputs": [],
   "source": [
    "# Extract Time Features\n",
    "\n",
    "df['hour']=df['time'].dt.hour\n",
    "df['day']=df['time'].dt.day_name()"
   ]
  },
  {
   "cell_type": "markdown",
   "id": "e6a4125f",
   "metadata": {},
   "source": [
    "### \t📊 Aggregate Key Metrics\n",
    "\n",
    "1. Failed logins by IP\n",
    "2. Request count by hour\n",
    "3. Hourly activity heatmap (day vs hour)"
   ]
  },
  {
   "cell_type": "code",
   "execution_count": 11,
   "id": "58808363",
   "metadata": {},
   "outputs": [],
   "source": [
    "## Aggregate & Analyze"
   ]
  },
  {
   "cell_type": "code",
   "execution_count": 12,
   "id": "3006bded",
   "metadata": {},
   "outputs": [],
   "source": [
    "# IPs with most failed logins\n",
    "\n",
    "ip_fails=(\n",
    "    df[df['is_failed_login']]\n",
    "    .groupby('ip')\n",
    "    .size()\n",
    "    .reset_index(name='failed_attempts')\n",
    "    .sort_values(by='failed_attempts', ascending=False)\n",
    ")"
   ]
  },
  {
   "cell_type": "code",
   "execution_count": 13,
   "id": "1c0231e4",
   "metadata": {},
   "outputs": [
    {
     "data": {
      "text/html": [
       "<div>\n",
       "<style scoped>\n",
       "    .dataframe tbody tr th:only-of-type {\n",
       "        vertical-align: middle;\n",
       "    }\n",
       "\n",
       "    .dataframe tbody tr th {\n",
       "        vertical-align: top;\n",
       "    }\n",
       "\n",
       "    .dataframe thead th {\n",
       "        text-align: right;\n",
       "    }\n",
       "</style>\n",
       "<table border=\"1\" class=\"dataframe\">\n",
       "  <thead>\n",
       "    <tr style=\"text-align: right;\">\n",
       "      <th></th>\n",
       "      <th>ip</th>\n",
       "      <th>time</th>\n",
       "      <th>request</th>\n",
       "      <th>status</th>\n",
       "      <th>size</th>\n",
       "      <th>method</th>\n",
       "      <th>endpoint</th>\n",
       "      <th>protocol</th>\n",
       "      <th>is_failed_login</th>\n",
       "      <th>hour</th>\n",
       "      <th>day</th>\n",
       "    </tr>\n",
       "  </thead>\n",
       "  <tbody>\n",
       "    <tr>\n",
       "      <th>0</th>\n",
       "      <td>83.149.9.216</td>\n",
       "      <td>2015-05-17 10:05:03+00:00</td>\n",
       "      <td>GET /presentations/logstash-monitorama-2013/im...</td>\n",
       "      <td>200</td>\n",
       "      <td>203023</td>\n",
       "      <td>GET</td>\n",
       "      <td>/presentations/logstash-monitorama-2013/images...</td>\n",
       "      <td>HTTP/1.1</td>\n",
       "      <td>False</td>\n",
       "      <td>10</td>\n",
       "      <td>Sunday</td>\n",
       "    </tr>\n",
       "    <tr>\n",
       "      <th>1</th>\n",
       "      <td>83.149.9.216</td>\n",
       "      <td>2015-05-17 10:05:43+00:00</td>\n",
       "      <td>GET /presentations/logstash-monitorama-2013/im...</td>\n",
       "      <td>200</td>\n",
       "      <td>171717</td>\n",
       "      <td>GET</td>\n",
       "      <td>/presentations/logstash-monitorama-2013/images...</td>\n",
       "      <td>HTTP/1.1</td>\n",
       "      <td>False</td>\n",
       "      <td>10</td>\n",
       "      <td>Sunday</td>\n",
       "    </tr>\n",
       "    <tr>\n",
       "      <th>2</th>\n",
       "      <td>83.149.9.216</td>\n",
       "      <td>2015-05-17 10:05:47+00:00</td>\n",
       "      <td>GET /presentations/logstash-monitorama-2013/pl...</td>\n",
       "      <td>200</td>\n",
       "      <td>26185</td>\n",
       "      <td>GET</td>\n",
       "      <td>/presentations/logstash-monitorama-2013/plugin...</td>\n",
       "      <td>HTTP/1.1</td>\n",
       "      <td>False</td>\n",
       "      <td>10</td>\n",
       "      <td>Sunday</td>\n",
       "    </tr>\n",
       "    <tr>\n",
       "      <th>3</th>\n",
       "      <td>83.149.9.216</td>\n",
       "      <td>2015-05-17 10:05:12+00:00</td>\n",
       "      <td>GET /presentations/logstash-monitorama-2013/pl...</td>\n",
       "      <td>200</td>\n",
       "      <td>7697</td>\n",
       "      <td>GET</td>\n",
       "      <td>/presentations/logstash-monitorama-2013/plugin...</td>\n",
       "      <td>HTTP/1.1</td>\n",
       "      <td>False</td>\n",
       "      <td>10</td>\n",
       "      <td>Sunday</td>\n",
       "    </tr>\n",
       "    <tr>\n",
       "      <th>4</th>\n",
       "      <td>83.149.9.216</td>\n",
       "      <td>2015-05-17 10:05:07+00:00</td>\n",
       "      <td>GET /presentations/logstash-monitorama-2013/pl...</td>\n",
       "      <td>200</td>\n",
       "      <td>2892</td>\n",
       "      <td>GET</td>\n",
       "      <td>/presentations/logstash-monitorama-2013/plugin...</td>\n",
       "      <td>HTTP/1.1</td>\n",
       "      <td>False</td>\n",
       "      <td>10</td>\n",
       "      <td>Sunday</td>\n",
       "    </tr>\n",
       "  </tbody>\n",
       "</table>\n",
       "</div>"
      ],
      "text/plain": [
       "             ip                      time  \\\n",
       "0  83.149.9.216 2015-05-17 10:05:03+00:00   \n",
       "1  83.149.9.216 2015-05-17 10:05:43+00:00   \n",
       "2  83.149.9.216 2015-05-17 10:05:47+00:00   \n",
       "3  83.149.9.216 2015-05-17 10:05:12+00:00   \n",
       "4  83.149.9.216 2015-05-17 10:05:07+00:00   \n",
       "\n",
       "                                             request  status    size method  \\\n",
       "0  GET /presentations/logstash-monitorama-2013/im...     200  203023    GET   \n",
       "1  GET /presentations/logstash-monitorama-2013/im...     200  171717    GET   \n",
       "2  GET /presentations/logstash-monitorama-2013/pl...     200   26185    GET   \n",
       "3  GET /presentations/logstash-monitorama-2013/pl...     200    7697    GET   \n",
       "4  GET /presentations/logstash-monitorama-2013/pl...     200    2892    GET   \n",
       "\n",
       "                                            endpoint  protocol  \\\n",
       "0  /presentations/logstash-monitorama-2013/images...  HTTP/1.1   \n",
       "1  /presentations/logstash-monitorama-2013/images...  HTTP/1.1   \n",
       "2  /presentations/logstash-monitorama-2013/plugin...  HTTP/1.1   \n",
       "3  /presentations/logstash-monitorama-2013/plugin...  HTTP/1.1   \n",
       "4  /presentations/logstash-monitorama-2013/plugin...  HTTP/1.1   \n",
       "\n",
       "   is_failed_login  hour     day  \n",
       "0            False    10  Sunday  \n",
       "1            False    10  Sunday  \n",
       "2            False    10  Sunday  \n",
       "3            False    10  Sunday  \n",
       "4            False    10  Sunday  "
      ]
     },
     "execution_count": 13,
     "metadata": {},
     "output_type": "execute_result"
    }
   ],
   "source": [
    "df.head()"
   ]
  },
  {
   "cell_type": "code",
   "execution_count": 17,
   "id": "6bd54f9e",
   "metadata": {},
   "outputs": [],
   "source": [
    "# Request  volume by hour\n",
    "\n",
    "hourly_requests=(\n",
    "    df.groupby('hour')\n",
    "    .size()\n",
    "    .reset_index(name='request_count')\n",
    ")"
   ]
  },
  {
   "cell_type": "code",
   "execution_count": 18,
   "id": "17acc699",
   "metadata": {},
   "outputs": [],
   "source": [
    "# Heatmap Dataset: Hour x Day\n",
    "\n",
    "heatmap_data=(\n",
    "    df.groupby(['day', 'hour'])\n",
    "    .size()\n",
    "    .reset_index(name='request_count')\n",
    ")"
   ]
  },
  {
   "cell_type": "markdown",
   "id": "632cc6b7",
   "metadata": {},
   "source": [
    "### 🗃️ Export Cleaned & Aggregate Data for Power BI"
   ]
  },
  {
   "cell_type": "code",
   "execution_count": 19,
   "id": "bd6c6e25",
   "metadata": {},
   "outputs": [],
   "source": [
    "## Export  to CSV\n",
    "\n",
    "df.to_csv(\"cleaned_apache_logs.csv\", index=False)\n",
    "ip_fails.to_csv(\"failed_logins_by_ip.csv\",index=False)\n",
    "hourly_requests.to_csv(\"hourly_requests.csv\", index=False)\n",
    "heatmap_data.to_csv(\"hourly_day_requests.csv\",index=False)"
   ]
  },
  {
   "cell_type": "code",
   "execution_count": null,
   "id": "6b3b7bd9",
   "metadata": {},
   "outputs": [],
   "source": []
  },
  {
   "cell_type": "markdown",
   "id": "501294d8",
   "metadata": {},
   "source": [
    "###  ✅ Next Steps\n",
    "\n",
    "- Load these CSVs into Power BI\n",
    "- Build dashboard with bar chart, line chart, heatmap and filterable table"
   ]
  },
  {
   "cell_type": "code",
   "execution_count": null,
   "id": "8f51ebe3",
   "metadata": {},
   "outputs": [],
   "source": []
  }
 ],
 "metadata": {
  "kernelspec": {
   "display_name": "Python 3 (ipykernel)",
   "language": "python",
   "name": "python3"
  },
  "language_info": {
   "codemirror_mode": {
    "name": "ipython",
    "version": 3
   },
   "file_extension": ".py",
   "mimetype": "text/x-python",
   "name": "python",
   "nbconvert_exporter": "python",
   "pygments_lexer": "ipython3",
   "version": "3.11.4"
  }
 },
 "nbformat": 4,
 "nbformat_minor": 5
}
